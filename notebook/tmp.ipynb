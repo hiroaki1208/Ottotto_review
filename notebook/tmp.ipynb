{
 "cells": [
  {
   "cell_type": "code",
   "execution_count": 1,
   "metadata": {},
   "outputs": [],
   "source": [
    "import yaml\n",
    "import os"
   ]
  },
  {
   "cell_type": "code",
   "execution_count": 2,
   "metadata": {},
   "outputs": [],
   "source": [
    "BASE_DIR = os.path.join(os.getcwd(), os.pardir)\n",
    "DATA_DIR = os.path.join(BASE_DIR, 'data')\n",
    "OUTPUT_DIR = os.path.join(BASE_DIR, 'output')\n",
    "CONFIG_DIR = os.path.join(BASE_DIR, 'configs')\n",
    "\n",
    "TYPE_LABEL = {'clicks':0, 'carts':1, 'orders':2}"
   ]
  },
  {
   "attachments": {},
   "cell_type": "markdown",
   "metadata": {},
   "source": [
    "- param(yaml)確認"
   ]
  },
  {
   "cell_type": "code",
   "execution_count": 3,
   "metadata": {},
   "outputs": [],
   "source": [
    "with open(os.path.join(CONFIG_DIR, 'parameter', f'param0.yml')) as file:\n",
    "    config = yaml.safe_load(file.read())\n"
   ]
  },
  {
   "cell_type": "code",
   "execution_count": 5,
   "metadata": {},
   "outputs": [
    {
     "data": {
      "text/plain": [
       "{'click': {'covisitation': {'target': ['setting0', 'setting1', 'setting2'],\n",
       "   'ensemble': 'ensemble0'}},\n",
       " 'carts': {'covisitation': {'target': ['setting0', 'setting1', 'setting2'],\n",
       "   'ensemble': 'ensemble0'}},\n",
       " 'orders': {'covisitation': {'target': ['setting0', 'setting1', 'setting2'],\n",
       "   'ensemble': 'ensemble0'}}}"
      ]
     },
     "execution_count": 5,
     "metadata": {},
     "output_type": "execute_result"
    }
   ],
   "source": [
    "config\n",
    "config['prediction']"
   ]
  },
  {
   "cell_type": "code",
   "execution_count": 9,
   "metadata": {},
   "outputs": [
    {
     "data": {
      "text/plain": [
       "{'target': 'validation',\n",
       " 'prediction': {'click': {'covisitation': {'target': ['setting0',\n",
       "     'setting1',\n",
       "     'setting2'],\n",
       "    'ensemble': 'ensemble0'}},\n",
       "  'carts': {'covisitation': {'target': ['setting0', 'setting1', 'setting2'],\n",
       "    'ensemble': 'ensemble0'}},\n",
       "  'orders': {'covisitation': {'target': ['setting0', 'setting1', 'setting2'],\n",
       "    'ensemble': 'ensemble0'}}},\n",
       " 'covisitation': {'setting0': {'name': 'type_weight',\n",
       "   'N': 60,\n",
       "   'type_weight': {0: 1, 1: 6, 2: 3}},\n",
       "  'setting1': {'name': 'buy2buy', 'N': 60},\n",
       "  'setting3': {'name': 'time_weight', 'N': 60}}}"
      ]
     },
     "execution_count": 9,
     "metadata": {},
     "output_type": "execute_result"
    }
   ],
   "source": [
    "# action = 'click'\n",
    "# config['prediction'].keys().tolist()\n",
    "config"
   ]
  },
  {
   "cell_type": "code",
   "execution_count": 30,
   "metadata": {},
   "outputs": [],
   "source": [
    "pred = config['prediction'][action]\n",
    "covisit = config['covisitation']"
   ]
  },
  {
   "cell_type": "code",
   "execution_count": 35,
   "metadata": {},
   "outputs": [
    {
     "name": "stdout",
     "output_type": "stream",
     "text": [
      "covisit0\n",
      "{'top': 20}\n",
      "covisit1\n",
      "{'top': 20}\n"
     ]
    }
   ],
   "source": [
    "pred_config_output = {}\n",
    "\n",
    "detail_d = {}\n",
    "for k, v in pred['covisitation_target'].items():\n",
    "    print(k)\n",
    "    print(v)\n",
    "    \n",
    "    # covisitationの詳細情報を追加\n",
    "    covisit_detail = covisit[k]\n",
    "    covisit_detail.update(v)\n",
    "    \n",
    "\n",
    "\n",
    "\n",
    "# pred['covisitation_target']\n"
   ]
  },
  {
   "cell_type": "code",
   "execution_count": 36,
   "metadata": {},
   "outputs": [
    {
     "name": "stdout",
     "output_type": "stream",
     "text": [
      "{'name': 'buy2buy', 'N': 60, 'target': 'validation', 'is_partial': 1, 'top': 20}\n"
     ]
    }
   ],
   "source": [
    "print(covisit_detail)\n"
   ]
  },
  {
   "cell_type": "code",
   "execution_count": 33,
   "metadata": {},
   "outputs": [],
   "source": []
  },
  {
   "cell_type": "code",
   "execution_count": 34,
   "metadata": {},
   "outputs": [
    {
     "data": {
      "text/plain": [
       "{'name': 'buy2buy',\n",
       " 'N': 60,\n",
       " 'target': 'validation',\n",
       " 'is_partial': 1,\n",
       " 'top': 20}"
      ]
     },
     "execution_count": 34,
     "metadata": {},
     "output_type": "execute_result"
    }
   ],
   "source": [
    "covisit_detail"
   ]
  },
  {
   "cell_type": "code",
   "execution_count": null,
   "metadata": {},
   "outputs": [],
   "source": []
  }
 ],
 "metadata": {
  "kernelspec": {
   "display_name": "env0",
   "language": "python",
   "name": "python3"
  },
  "language_info": {
   "codemirror_mode": {
    "name": "ipython",
    "version": 3
   },
   "file_extension": ".py",
   "mimetype": "text/x-python",
   "name": "python",
   "nbconvert_exporter": "python",
   "pygments_lexer": "ipython3",
   "version": "3.9.7"
  },
  "orig_nbformat": 4
 },
 "nbformat": 4,
 "nbformat_minor": 2
}
