{
 "cells": [
  {
   "cell_type": "markdown",
   "metadata": {},
   "source": [
    "# EDA"
   ]
  },
  {
   "cell_type": "code",
   "execution_count": 25,
   "metadata": {},
   "outputs": [],
   "source": [
    "import numpy as np\n",
    "import pandas as pd\n",
    "\n",
    "import os\n",
    "import glob"
   ]
  },
  {
   "cell_type": "code",
   "execution_count": 34,
   "metadata": {},
   "outputs": [],
   "source": [
    "BASE_DIR = os.path.join(os.getcwd(), os.pardir)\n",
    "DATA_DIR = os.path.join(BASE_DIR, 'data')\n",
    "\n",
    "TYPE_LABEL = {'clicks':0, 'carts':1, 'orders':2}\n"
   ]
  },
  {
   "attachments": {},
   "cell_type": "markdown",
   "metadata": {},
   "source": [
    "## ファイルimport"
   ]
  },
  {
   "cell_type": "code",
   "execution_count": 37,
   "metadata": {},
   "outputs": [],
   "source": [
    "def read_file_to_cache(f):\n",
    "    df = pd.read_parquet(f)\n",
    "    df.ts = (df.ts/1000).astype('int32')\n",
    "    df['type'] = df['type'].map(TYPE_LABEL).astype('int8')\n",
    "    return df"
   ]
  },
  {
   "cell_type": "code",
   "execution_count": 40,
   "metadata": {},
   "outputs": [],
   "source": [
    "# # ================\n",
    "# # sample_submission\n",
    "# # ================\n",
    "# path_sample_submission = os.path.join(BASE_DIR, 'data', 'original_data', 'sample_submission.csv')\n",
    "# sample_sub = pd.read_csv(path_sample_submission)\n",
    "\n",
    "# # ================\n",
    "# # train/test parquet\n",
    "# # ================\n",
    "# train_paths = glob.glob(os.path.join(DATA_DIR, 'chunked_data', 'train_parquet', '*'))\n",
    "# test_paths = glob.glob(os.path.join(DATA_DIR, 'chunked_data', 'test_parquet', '*'))\n",
    "# # data_cache_train = {}\n",
    "# # data_cache_test = {}\n",
    "# # for p in train_paths: data_cache_train[p] = read_file_to_cache(p)\n",
    "# # for p in test_paths: data_cache_test[p] = read_file_to_cache(p)\n",
    "\n",
    "# ================\n",
    "# validation file\n",
    "# ================\n",
    "\n",
    "\n"
   ]
  },
  {
   "cell_type": "code",
   "execution_count": null,
   "metadata": {},
   "outputs": [],
   "source": []
  },
  {
   "cell_type": "code",
   "execution_count": null,
   "metadata": {},
   "outputs": [],
   "source": []
  }
 ],
 "metadata": {
  "kernelspec": {
   "display_name": "env0",
   "language": "python",
   "name": "python3"
  },
  "language_info": {
   "codemirror_mode": {
    "name": "ipython",
    "version": 3
   },
   "file_extension": ".py",
   "mimetype": "text/x-python",
   "name": "python",
   "nbconvert_exporter": "python",
   "pygments_lexer": "ipython3",
   "version": "3.9.7"
  },
  "orig_nbformat": 4,
  "vscode": {
   "interpreter": {
    "hash": "05b7e5ccf0de9b227d621023e7bb2b49f96155c55705a7bcf2b6249bf3c33543"
   }
  }
 },
 "nbformat": 4,
 "nbformat_minor": 2
}
