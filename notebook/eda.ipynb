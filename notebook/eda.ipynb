{
 "cells": [
  {
   "cell_type": "markdown",
   "metadata": {},
   "source": [
    "# EDA"
   ]
  },
  {
   "cell_type": "code",
   "execution_count": 2,
   "metadata": {},
   "outputs": [],
   "source": [
    "import numpy as np\n",
    "import pandas as pd\n",
    "\n",
    "import os\n",
    "import glob"
   ]
  },
  {
   "cell_type": "code",
   "execution_count": 3,
   "metadata": {},
   "outputs": [],
   "source": [
    "BASE_DIR = os.path.join(os.getcwd(), os.pardir)\n",
    "DATA_DIR = os.path.join(BASE_DIR, 'data')\n",
    "\n",
    "TYPE_LABEL = {'clicks':0, 'carts':1, 'orders':2}"
   ]
  },
  {
   "attachments": {},
   "cell_type": "markdown",
   "metadata": {},
   "source": [
    "## ファイルimport"
   ]
  },
  {
   "cell_type": "code",
   "execution_count": 4,
   "metadata": {},
   "outputs": [],
   "source": [
    "def read_file_to_cache(f):\n",
    "    df = pd.read_parquet(f)\n",
    "    df.ts = (df.ts/1000).astype('int32')\n",
    "    df['type'] = df['type'].map(TYPE_LABEL).astype('int8')\n",
    "    return df"
   ]
  },
  {
   "cell_type": "code",
   "execution_count": 11,
   "metadata": {},
   "outputs": [
    {
     "name": "stdout",
     "output_type": "stream",
     "text": [
      "CPU times: total: 30.8 s\n",
      "Wall time: 21.5 s\n"
     ]
    }
   ],
   "source": [
    "%%timeit\n",
    "# # ================\n",
    "# # sample_submission\n",
    "# # ================\n",
    "# path_sample_submission = os.path.join(BASE_DIR, 'data', 'original_data', 'sample_submission.csv')\n",
    "# sample_sub = pd.read_csv(path_sample_submission)\n",
    "\n",
    "# # ================\n",
    "# # train/test parquet\n",
    "# # ================\n",
    "# train_paths = glob.glob(os.path.join(DATA_DIR, 'chunked_data', 'train_parquet', '*'))\n",
    "# test_paths = glob.glob(os.path.join(DATA_DIR, 'chunked_data', 'test_parquet', '*'))\n",
    "# # data_cache_train = {}\n",
    "# # data_cache_test = {}\n",
    "# # for p in train_paths: data_cache_train[p] = read_file_to_cache(p)\n",
    "# # for p in test_paths: data_cache_test[p] = read_file_to_cache(p)\n",
    "\n",
    "# ================\n",
    "# validation file\n",
    "# ================\n",
    "train_val_paths = glob.glob(os.path.join(DATA_DIR, 'validation', 'train_parquet', '*'))\n",
    "test_val_paths = glob.glob(os.path.join(DATA_DIR, 'validation', 'test_parquet', '*'))\n",
    "test_label = os.path.join(DATA_DIR, 'validation', 'test_labels.parquet')\n",
    "validation_train = {}\n",
    "# validation_test = {}\n",
    "for p in train_val_paths: validation_train[p] = read_file_to_cache(p)\n",
    "# for p in test_val_paths: validation_test[p] = read_file_to_cache(p)\n",
    "# validation_label = pd.read_parquet(test_label)"
   ]
  },
  {
   "cell_type": "markdown",
   "metadata": {},
   "source": [
    "## EDA"
   ]
  },
  {
   "cell_type": "code",
   "execution_count": 15,
   "metadata": {},
   "outputs": [
    {
     "name": "stdout",
     "output_type": "stream",
     "text": [
      "file list index: 0\n"
     ]
    },
    {
     "data": {
      "text/html": [
       "<div>\n",
       "<style scoped>\n",
       "    .dataframe tbody tr th:only-of-type {\n",
       "        vertical-align: middle;\n",
       "    }\n",
       "\n",
       "    .dataframe tbody tr th {\n",
       "        vertical-align: top;\n",
       "    }\n",
       "\n",
       "    .dataframe thead th {\n",
       "        text-align: right;\n",
       "    }\n",
       "</style>\n",
       "<table border=\"1\" class=\"dataframe\">\n",
       "  <thead>\n",
       "    <tr style=\"text-align: right;\">\n",
       "      <th></th>\n",
       "      <th>aid_count</th>\n",
       "      <th>aid_nunique</th>\n",
       "      <th>ts_count</th>\n",
       "      <th>ts_nunique</th>\n",
       "    </tr>\n",
       "  </thead>\n",
       "  <tbody>\n",
       "    <tr>\n",
       "      <th>count</th>\n",
       "      <td>110986.000000</td>\n",
       "      <td>110986.000000</td>\n",
       "      <td>110986.000000</td>\n",
       "      <td>110986.000000</td>\n",
       "    </tr>\n",
       "    <tr>\n",
       "      <th>mean</th>\n",
       "      <td>42.921783</td>\n",
       "      <td>24.946777</td>\n",
       "      <td>42.921783</td>\n",
       "      <td>42.470113</td>\n",
       "    </tr>\n",
       "    <tr>\n",
       "      <th>std</th>\n",
       "      <td>63.751143</td>\n",
       "      <td>35.157395</td>\n",
       "      <td>63.751143</td>\n",
       "      <td>63.040910</td>\n",
       "    </tr>\n",
       "    <tr>\n",
       "      <th>min</th>\n",
       "      <td>1.000000</td>\n",
       "      <td>1.000000</td>\n",
       "      <td>1.000000</td>\n",
       "      <td>1.000000</td>\n",
       "    </tr>\n",
       "    <tr>\n",
       "      <th>25%</th>\n",
       "      <td>5.000000</td>\n",
       "      <td>4.000000</td>\n",
       "      <td>5.000000</td>\n",
       "      <td>5.000000</td>\n",
       "    </tr>\n",
       "    <tr>\n",
       "      <th>50%</th>\n",
       "      <td>16.000000</td>\n",
       "      <td>10.000000</td>\n",
       "      <td>16.000000</td>\n",
       "      <td>16.000000</td>\n",
       "    </tr>\n",
       "    <tr>\n",
       "      <th>75%</th>\n",
       "      <td>52.000000</td>\n",
       "      <td>31.000000</td>\n",
       "      <td>52.000000</td>\n",
       "      <td>51.000000</td>\n",
       "    </tr>\n",
       "    <tr>\n",
       "      <th>max</th>\n",
       "      <td>495.000000</td>\n",
       "      <td>460.000000</td>\n",
       "      <td>495.000000</td>\n",
       "      <td>495.000000</td>\n",
       "    </tr>\n",
       "  </tbody>\n",
       "</table>\n",
       "</div>"
      ],
      "text/plain": [
       "           aid_count    aid_nunique       ts_count     ts_nunique\n",
       "count  110986.000000  110986.000000  110986.000000  110986.000000\n",
       "mean       42.921783      24.946777      42.921783      42.470113\n",
       "std        63.751143      35.157395      63.751143      63.040910\n",
       "min         1.000000       1.000000       1.000000       1.000000\n",
       "25%         5.000000       4.000000       5.000000       5.000000\n",
       "50%        16.000000      10.000000      16.000000      16.000000\n",
       "75%        52.000000      31.000000      52.000000      51.000000\n",
       "max       495.000000     460.000000     495.000000     495.000000"
      ]
     },
     "metadata": {},
     "output_type": "display_data"
    },
    {
     "name": "stdout",
     "output_type": "stream",
     "text": [
      "file list index: -1\n"
     ]
    },
    {
     "data": {
      "text/html": [
       "<div>\n",
       "<style scoped>\n",
       "    .dataframe tbody tr th:only-of-type {\n",
       "        vertical-align: middle;\n",
       "    }\n",
       "\n",
       "    .dataframe tbody tr th {\n",
       "        vertical-align: top;\n",
       "    }\n",
       "\n",
       "    .dataframe thead th {\n",
       "        text-align: right;\n",
       "    }\n",
       "</style>\n",
       "<table border=\"1\" class=\"dataframe\">\n",
       "  <thead>\n",
       "    <tr style=\"text-align: right;\">\n",
       "      <th></th>\n",
       "      <th>aid_count</th>\n",
       "      <th>aid_nunique</th>\n",
       "      <th>ts_count</th>\n",
       "      <th>ts_nunique</th>\n",
       "    </tr>\n",
       "  </thead>\n",
       "  <tbody>\n",
       "    <tr>\n",
       "      <th>count</th>\n",
       "      <td>110914.000000</td>\n",
       "      <td>110914.000000</td>\n",
       "      <td>110914.000000</td>\n",
       "      <td>110914.000000</td>\n",
       "    </tr>\n",
       "    <tr>\n",
       "      <th>mean</th>\n",
       "      <td>5.918027</td>\n",
       "      <td>4.024163</td>\n",
       "      <td>5.918027</td>\n",
       "      <td>5.826776</td>\n",
       "    </tr>\n",
       "    <tr>\n",
       "      <th>std</th>\n",
       "      <td>8.903743</td>\n",
       "      <td>5.473617</td>\n",
       "      <td>8.903743</td>\n",
       "      <td>8.635322</td>\n",
       "    </tr>\n",
       "    <tr>\n",
       "      <th>min</th>\n",
       "      <td>1.000000</td>\n",
       "      <td>1.000000</td>\n",
       "      <td>1.000000</td>\n",
       "      <td>1.000000</td>\n",
       "    </tr>\n",
       "    <tr>\n",
       "      <th>25%</th>\n",
       "      <td>2.000000</td>\n",
       "      <td>1.000000</td>\n",
       "      <td>2.000000</td>\n",
       "      <td>2.000000</td>\n",
       "    </tr>\n",
       "    <tr>\n",
       "      <th>50%</th>\n",
       "      <td>3.000000</td>\n",
       "      <td>2.000000</td>\n",
       "      <td>3.000000</td>\n",
       "      <td>3.000000</td>\n",
       "    </tr>\n",
       "    <tr>\n",
       "      <th>75%</th>\n",
       "      <td>6.000000</td>\n",
       "      <td>4.000000</td>\n",
       "      <td>6.000000</td>\n",
       "      <td>6.000000</td>\n",
       "    </tr>\n",
       "    <tr>\n",
       "      <th>max</th>\n",
       "      <td>246.000000</td>\n",
       "      <td>168.000000</td>\n",
       "      <td>246.000000</td>\n",
       "      <td>245.000000</td>\n",
       "    </tr>\n",
       "  </tbody>\n",
       "</table>\n",
       "</div>"
      ],
      "text/plain": [
       "           aid_count    aid_nunique       ts_count     ts_nunique\n",
       "count  110914.000000  110914.000000  110914.000000  110914.000000\n",
       "mean        5.918027       4.024163       5.918027       5.826776\n",
       "std         8.903743       5.473617       8.903743       8.635322\n",
       "min         1.000000       1.000000       1.000000       1.000000\n",
       "25%         2.000000       1.000000       2.000000       2.000000\n",
       "50%         3.000000       2.000000       3.000000       3.000000\n",
       "75%         6.000000       4.000000       6.000000       6.000000\n",
       "max       246.000000     168.000000     246.000000     245.000000"
      ]
     },
     "metadata": {},
     "output_type": "display_data"
    }
   ],
   "source": [
    "# 1sessionあたりのaid(商品), ts(時刻)のcount, nunique(重複)確認\n",
    "def _check_ct_duplicate(i):\n",
    "    print(f'file list index: {i}')\n",
    "    k = train_val_paths[i]\n",
    "    g = validation_train[k].groupby('session').agg({'aid':['count', 'nunique'], 'ts': ['count', 'nunique']})\n",
    "    g.columns = ['_'.join(c) for c in g.columns]\n",
    "    display(g.describe())\n",
    "\n",
    "_check_ct_duplicate(0)\n",
    "_check_ct_duplicate(-1)"
   ]
  },
  {
   "cell_type": "code",
   "execution_count": null,
   "metadata": {},
   "outputs": [],
   "source": []
  }
 ],
 "metadata": {
  "kernelspec": {
   "display_name": "env0",
   "language": "python",
   "name": "python3"
  },
  "language_info": {
   "codemirror_mode": {
    "name": "ipython",
    "version": 3
   },
   "file_extension": ".py",
   "mimetype": "text/x-python",
   "name": "python",
   "nbconvert_exporter": "python",
   "pygments_lexer": "ipython3",
   "version": "3.9.7"
  },
  "orig_nbformat": 4,
  "vscode": {
   "interpreter": {
    "hash": "05b7e5ccf0de9b227d621023e7bb2b49f96155c55705a7bcf2b6249bf3c33543"
   }
  }
 },
 "nbformat": 4,
 "nbformat_minor": 2
}
