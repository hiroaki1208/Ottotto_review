{
 "cells": [
  {
   "cell_type": "markdown",
   "metadata": {},
   "source": [
    "# EDA"
   ]
  },
  {
   "cell_type": "code",
   "execution_count": 25,
   "metadata": {},
   "outputs": [],
   "source": [
    "import numpy as np\n",
    "import pandas as pd\n",
    "\n",
    "import os\n",
    "import glob"
   ]
  },
  {
   "cell_type": "code",
   "execution_count": 34,
   "metadata": {},
   "outputs": [],
   "source": [
    "BASE_DIR = os.path.join(os.getcwd(), os.pardir)\n",
    "DATA_DIR = os.path.join(BASE_DIR, 'data')\n",
    "\n",
    "TYPE_LABEL = {'clicks':0, 'carts':1, 'orders':2}\n"
   ]
  },
  {
   "attachments": {},
   "cell_type": "markdown",
   "metadata": {},
   "source": [
    "## ファイルimport"
   ]
  },
  {
   "cell_type": "code",
   "execution_count": 37,
   "metadata": {},
   "outputs": [],
   "source": [
    "def read_file_to_cache(f):\n",
    "    df = pd.read_parquet(f)\n",
    "    df.ts = (df.ts/1000).astype('int32')\n",
    "    df['type'] = df['type'].map(TYPE_LABEL).astype('int8')\n",
    "    return df"
   ]
  },
  {
   "cell_type": "code",
   "execution_count": 45,
   "metadata": {},
   "outputs": [],
   "source": [
    "# # ================\n",
    "# # sample_submission\n",
    "# # ================\n",
    "# path_sample_submission = os.path.join(BASE_DIR, 'data', 'original_data', 'sample_submission.csv')\n",
    "# sample_sub = pd.read_csv(path_sample_submission)\n",
    "\n",
    "# # ================\n",
    "# # train/test parquet\n",
    "# # ================\n",
    "# train_paths = glob.glob(os.path.join(DATA_DIR, 'chunked_data', 'train_parquet', '*'))\n",
    "# test_paths = glob.glob(os.path.join(DATA_DIR, 'chunked_data', 'test_parquet', '*'))\n",
    "# # data_cache_train = {}\n",
    "# # data_cache_test = {}\n",
    "# # for p in train_paths: data_cache_train[p] = read_file_to_cache(p)\n",
    "# # for p in test_paths: data_cache_test[p] = read_file_to_cache(p)\n",
    "\n",
    "# ================\n",
    "# validation file\n",
    "# ================\n",
    "train_paths = glob.glob(os.path.join(DATA_DIR, 'validation', 'train_parquet', '*'))\n",
    "test_paths = glob.glob(os.path.join(DATA_DIR, 'validation', 'test_parquet', '*'))\n",
    "test_label = os.path.join(DATA_DIR, 'validation', 'test_labels.parquet')\n",
    "# validation_train = {}\n",
    "# validation_test = {}\n",
    "# for p in train_paths: validation_train[p] = read_file_to_cache(p)\n",
    "# for p in test_paths: validation_test[p] = read_file_to_cache(p)\n",
    "# validation_label = pd.read_parquet(test_label)\n",
    "\n"
   ]
  },
  {
   "cell_type": "code",
   "execution_count": 43,
   "metadata": {},
   "outputs": [
    {
     "data": {
      "text/html": [
       "<div>\n",
       "<style scoped>\n",
       "    .dataframe tbody tr th:only-of-type {\n",
       "        vertical-align: middle;\n",
       "    }\n",
       "\n",
       "    .dataframe tbody tr th {\n",
       "        vertical-align: top;\n",
       "    }\n",
       "\n",
       "    .dataframe thead th {\n",
       "        text-align: right;\n",
       "    }\n",
       "</style>\n",
       "<table border=\"1\" class=\"dataframe\">\n",
       "  <thead>\n",
       "    <tr style=\"text-align: right;\">\n",
       "      <th></th>\n",
       "      <th>session</th>\n",
       "      <th>aid</th>\n",
       "      <th>ts</th>\n",
       "      <th>type</th>\n",
       "    </tr>\n",
       "  </thead>\n",
       "  <tbody>\n",
       "    <tr>\n",
       "      <th>0</th>\n",
       "      <td>0</td>\n",
       "      <td>1517085</td>\n",
       "      <td>1659304800</td>\n",
       "      <td>0</td>\n",
       "    </tr>\n",
       "    <tr>\n",
       "      <th>1</th>\n",
       "      <td>0</td>\n",
       "      <td>1563459</td>\n",
       "      <td>1659304904</td>\n",
       "      <td>0</td>\n",
       "    </tr>\n",
       "    <tr>\n",
       "      <th>2</th>\n",
       "      <td>0</td>\n",
       "      <td>1309446</td>\n",
       "      <td>1659367439</td>\n",
       "      <td>0</td>\n",
       "    </tr>\n",
       "    <tr>\n",
       "      <th>3</th>\n",
       "      <td>0</td>\n",
       "      <td>16246</td>\n",
       "      <td>1659367719</td>\n",
       "      <td>0</td>\n",
       "    </tr>\n",
       "    <tr>\n",
       "      <th>4</th>\n",
       "      <td>0</td>\n",
       "      <td>1781822</td>\n",
       "      <td>1659367871</td>\n",
       "      <td>0</td>\n",
       "    </tr>\n",
       "    <tr>\n",
       "      <th>...</th>\n",
       "      <td>...</td>\n",
       "      <td>...</td>\n",
       "      <td>...</td>\n",
       "      <td>...</td>\n",
       "    </tr>\n",
       "    <tr>\n",
       "      <th>4763712</th>\n",
       "      <td>110984</td>\n",
       "      <td>646038</td>\n",
       "      <td>1661023956</td>\n",
       "      <td>0</td>\n",
       "    </tr>\n",
       "    <tr>\n",
       "      <th>4763713</th>\n",
       "      <td>110984</td>\n",
       "      <td>1099427</td>\n",
       "      <td>1661024061</td>\n",
       "      <td>0</td>\n",
       "    </tr>\n",
       "    <tr>\n",
       "      <th>4763714</th>\n",
       "      <td>110985</td>\n",
       "      <td>573604</td>\n",
       "      <td>1659328485</td>\n",
       "      <td>0</td>\n",
       "    </tr>\n",
       "    <tr>\n",
       "      <th>4763715</th>\n",
       "      <td>110985</td>\n",
       "      <td>1644439</td>\n",
       "      <td>1659782912</td>\n",
       "      <td>0</td>\n",
       "    </tr>\n",
       "    <tr>\n",
       "      <th>4763716</th>\n",
       "      <td>110985</td>\n",
       "      <td>314992</td>\n",
       "      <td>1659782929</td>\n",
       "      <td>0</td>\n",
       "    </tr>\n",
       "  </tbody>\n",
       "</table>\n",
       "<p>4763717 rows × 4 columns</p>\n",
       "</div>"
      ],
      "text/plain": [
       "         session      aid          ts  type\n",
       "0              0  1517085  1659304800     0\n",
       "1              0  1563459  1659304904     0\n",
       "2              0  1309446  1659367439     0\n",
       "3              0    16246  1659367719     0\n",
       "4              0  1781822  1659367871     0\n",
       "...          ...      ...         ...   ...\n",
       "4763712   110984   646038  1661023956     0\n",
       "4763713   110984  1099427  1661024061     0\n",
       "4763714   110985   573604  1659328485     0\n",
       "4763715   110985  1644439  1659782912     0\n",
       "4763716   110985   314992  1659782929     0\n",
       "\n",
       "[4763717 rows x 4 columns]"
      ]
     },
     "execution_count": 43,
     "metadata": {},
     "output_type": "execute_result"
    }
   ],
   "source": [
    "a"
   ]
  },
  {
   "cell_type": "code",
   "execution_count": null,
   "metadata": {},
   "outputs": [],
   "source": []
  }
 ],
 "metadata": {
  "kernelspec": {
   "display_name": "env0",
   "language": "python",
   "name": "python3"
  },
  "language_info": {
   "codemirror_mode": {
    "name": "ipython",
    "version": 3
   },
   "file_extension": ".py",
   "mimetype": "text/x-python",
   "name": "python",
   "nbconvert_exporter": "python",
   "pygments_lexer": "ipython3",
   "version": "3.9.7"
  },
  "orig_nbformat": 4,
  "vscode": {
   "interpreter": {
    "hash": "05b7e5ccf0de9b227d621023e7bb2b49f96155c55705a7bcf2b6249bf3c33543"
   }
  }
 },
 "nbformat": 4,
 "nbformat_minor": 2
}
